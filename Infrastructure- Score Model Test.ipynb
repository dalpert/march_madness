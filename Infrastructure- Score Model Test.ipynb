{
 "cells": [
  {
   "cell_type": "code",
   "execution_count": 1,
   "metadata": {
    "collapsed": false
   },
   "outputs": [],
   "source": [
    "import march_madness_classes as mmc\n",
    "import pandas as pd\n",
    "import numpy as np"
   ]
  },
  {
   "cell_type": "code",
   "execution_count": 12,
   "metadata": {
    "collapsed": false
   },
   "outputs": [],
   "source": [
    "pi_1985 = pd.read_csv(\"datasets/our_data/markov_data/1985_stationary_distribution\")\n",
    "pi_1985.columns = [\"Team\", \"pi_i\"]"
   ]
  },
  {
   "cell_type": "code",
   "execution_count": 3,
   "metadata": {
    "collapsed": false
   },
   "outputs": [],
   "source": [
    "# read in the dataset\n",
    "teams = pd.read_csv(\"datasets/kaggle_data/Teams.csv\")\n",
    "seeds = pd.read_csv(\"datasets/kaggle_data/TourneySeeds.csv\")\n",
    "slots = pd.read_csv(\"datasets/kaggle_data/TourneySlots.csv\")\n",
    "resul = pd.read_csv(\"datasets/kaggle_data/TourneyCompactResults.csv\")"
   ]
  },
  {
   "cell_type": "code",
   "execution_count": 4,
   "metadata": {
    "collapsed": false
   },
   "outputs": [],
   "source": [
    "seeds_arr = mmc.filter_into_seasons(seeds)\n",
    "slots_arr = mmc.filter_into_seasons(slots)\n",
    "resul_arr = mmc.filter_into_seasons(resul)"
   ]
  },
  {
   "cell_type": "code",
   "execution_count": 5,
   "metadata": {
    "collapsed": true
   },
   "outputs": [],
   "source": [
    "seeds_1985 = seeds_arr[0]\n",
    "slots_1985 = slots_arr[0]\n",
    "resul_1985 = resul_arr[0]"
   ]
  },
  {
   "cell_type": "code",
   "execution_count": 6,
   "metadata": {
    "collapsed": false
   },
   "outputs": [],
   "source": [
    "# 3 models for testing\n",
    "tourney_actual_1985 = mmc.Tournament(seeds_1985, slots_1985, mmc.ActualTournament(resul_1985))\n",
    "tourney_actual_1985.simulate_tournament()\n",
    "\n",
    "tourney_markov_1985 = mmc.Tournament(seeds_1985, slots_1985, mmc.MarkovPredictor(pi_1985))\n",
    "tourney_markov_1985.simulate_tournament()\n",
    "\n",
    "tourney_top_seed_1985 = mmc.Tournament(seeds_1985, slots_1985, mmc.BasicPredictor())\n",
    "tourney_top_seed_1985.simulate_tournament()\n",
    "\n",
    "markov_1985 = tourney_markov_1985.entire_bracket\n",
    "top_seed_1985 =  tourney_top_seed_1985.entire_bracket\n",
    "actual_1985 = tourney_actual_1985.entire_bracket"
   ]
  },
  {
   "cell_type": "code",
   "execution_count": 7,
   "metadata": {
    "collapsed": false
   },
   "outputs": [
    {
     "name": "stdout",
     "output_type": "stream",
     "text": [
      "250\n",
      "Total Points  : 950\n",
      "\n",
      "Total Accuracy: 42 / 63 = 0.666666666667\n",
      "R1    Accuracy: 25 / 32 = 0.78125\n",
      "R2    Accuracy: 9 / 16 = 0.5625\n",
      "R3    Accuracy: 5 / 8 = 0.625\n",
      "R4    Accuracy: 2 / 4 = 0.5\n",
      "R5    Accuracy: 1 / 2 = 0.5\n",
      "R6    Accuracy: 0 / 1 = 0.0\n"
     ]
    },
    {
     "data": {
      "text/plain": [
       "(950, 0.6666666666666666)"
      ]
     },
     "execution_count": 7,
     "metadata": {},
     "output_type": "execute_result"
    }
   ],
   "source": [
    "tourney_markov_1985.score_model(tourney_actual_1985, print_res=True)"
   ]
  },
  {
   "cell_type": "code",
   "execution_count": 8,
   "metadata": {
    "collapsed": false
   },
   "outputs": [
    {
     "name": "stdout",
     "output_type": "stream",
     "text": [
      "250\n",
      "Total Points  : 990\n",
      "\n",
      "Total Accuracy: 43 / 63 = 0.68253968254\n",
      "R1    Accuracy: 25 / 32 = 0.78125\n",
      "R2    Accuracy: 9 / 16 = 0.5625\n",
      "R3    Accuracy: 6 / 8 = 0.75\n",
      "R4    Accuracy: 2 / 4 = 0.5\n",
      "R5    Accuracy: 1 / 2 = 0.5\n",
      "R6    Accuracy: 0 / 1 = 0.0\n"
     ]
    },
    {
     "data": {
      "text/plain": [
       "(990, 0.6825396825396826)"
      ]
     },
     "execution_count": 8,
     "metadata": {},
     "output_type": "execute_result"
    }
   ],
   "source": [
    "tourney_top_seed_1985.score_model(tourney_actual_1985, print_res=True)"
   ]
  },
  {
   "cell_type": "code",
   "execution_count": 9,
   "metadata": {
    "collapsed": false
   },
   "outputs": [
    {
     "name": "stdout",
     "output_type": "stream",
     "text": [
      "320\n",
      "Total Points  : 1920\n",
      "\n",
      "Total Accuracy: 63 / 63 = 1.0\n",
      "R1    Accuracy: 32 / 32 = 1.0\n",
      "R2    Accuracy: 16 / 16 = 1.0\n",
      "R3    Accuracy: 8 / 8 = 1.0\n",
      "R4    Accuracy: 4 / 4 = 1.0\n",
      "R5    Accuracy: 2 / 2 = 1.0\n",
      "R6    Accuracy: 1 / 1 = 1.0\n"
     ]
    },
    {
     "data": {
      "text/plain": [
       "(1920, 1.0)"
      ]
     },
     "execution_count": 9,
     "metadata": {},
     "output_type": "execute_result"
    }
   ],
   "source": [
    "tourney_actual_1985.score_model(tourney_actual_1985, print_res=True)"
   ]
  }
 ],
 "metadata": {
  "anaconda-cloud": {},
  "kernelspec": {
   "display_name": "Python [Root]",
   "language": "python",
   "name": "Python [Root]"
  },
  "language_info": {
   "codemirror_mode": {
    "name": "ipython",
    "version": 2
   },
   "file_extension": ".py",
   "mimetype": "text/x-python",
   "name": "python",
   "nbconvert_exporter": "python",
   "pygments_lexer": "ipython2",
   "version": "2.7.12"
  }
 },
 "nbformat": 4,
 "nbformat_minor": 0
}
