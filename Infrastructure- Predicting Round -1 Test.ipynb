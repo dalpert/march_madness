{
 "cells": [
  {
   "cell_type": "code",
   "execution_count": 1,
   "metadata": {
    "collapsed": true
   },
   "outputs": [],
   "source": [
    "import pandas as pd\n",
    "import numpy as np\n",
    "import march_madness_classes as mmc\n",
    "import march_madness_games as mmg\n",
    "import march_madness_models as mmm"
   ]
  },
  {
   "cell_type": "code",
   "execution_count": 2,
   "metadata": {
    "collapsed": true
   },
   "outputs": [],
   "source": [
    "# read in the dataset\n",
    "teams = pd.read_csv(\"datasets/kaggle_data/Teams.csv\")\n",
    "seeds = pd.read_csv(\"datasets/kaggle_data/TourneySeeds.csv\")\n",
    "slots = pd.read_csv(\"datasets/kaggle_data/TourneySlots.csv\")"
   ]
  },
  {
   "cell_type": "code",
   "execution_count": 3,
   "metadata": {
    "collapsed": true
   },
   "outputs": [],
   "source": [
    "slots_arr = mmg.filter_into_seasons(slots)\n",
    "seeds_arr = mmg.filter_into_seasons(seeds)"
   ]
  },
  {
   "cell_type": "code",
   "execution_count": 4,
   "metadata": {
    "collapsed": false
   },
   "outputs": [],
   "source": [
    "# read in the dataset\n",
    "seeds = pd.read_csv(\"datasets/kaggle_data/TourneySeeds.csv\")\n",
    "slots = pd.read_csv(\"datasets/kaggle_data/TourneySlots.csv\")\n",
    "games = pd.read_csv(\"datasets/kaggle_data/TourneyCompactResults.csv\")\n",
    "\n",
    "seeds_arr = mmg.filter_into_seasons(seeds)\n",
    "slots_arr = mmg.filter_into_seasons(slots)\n",
    "games_arr = mmg.filter_into_seasons(games)"
   ]
  },
  {
   "cell_type": "code",
   "execution_count": 5,
   "metadata": {
    "collapsed": true
   },
   "outputs": [],
   "source": [
    "# extract predictors\n",
    "markov_data = pd.read_csv(\"datasets/our_data/stationary\", index_col=0)\n",
    "consistency = pd.read_csv(\"datasets/our_data/consistency\", index_col=0)\n",
    "dominance = pd.read_csv(\"datasets/our_data/dominance\", index_col=0)\n",
    "past_resul = pd.read_csv(\"datasets/our_data/past_results\", index_col=0)\n",
    "rpi = pd.read_csv(\"datasets/our_data/rpi\", index_col=0)\n",
    "bad_losses = pd.read_csv(\"datasets/our_data/bad_losses\", index_col=0)\n",
    "tough_wins = pd.read_csv(\"datasets/our_data/tough_wins\", index_col=0)\n",
    "close_games= pd.read_csv(\"datasets/our_data/close_games\", index_col=0)\n",
    "close_wins = pd.read_csv(\"datasets/our_data/close_wins\",index_col=0)\n",
    "close_wins_perc = pd.read_csv(\"datasets/our_data/close_wins_perc\", index_col=0)\n",
    "momentum = pd.read_csv(\"datasets/our_data/momentum\", index_col=0)\n",
    "weighted_wins = pd.read_csv(\"datasets/our_data/weighted_wins\", index_col=0)\n",
    "seed_matrix_df = pd.read_csv(\"datasets/our_data/team_summary_data/seeds_matrix\", index_col=0)"
   ]
  },
  {
   "cell_type": "code",
   "execution_count": 6,
   "metadata": {
    "collapsed": true
   },
   "outputs": [],
   "source": [
    "# get data into correct format\n",
    "predictor_names = [\"min_index_id\", \"max_index_id\", \"markov\", \"dominance\", \"rpi\", \"bad_losses\", \"tough_wins\", \"close_wins\", \"close_wins_perc\", \"weighted_wins\", \"past_resul\", \"momentum\"] \n",
    "predictor_dfs = [markov_data, dominance, rpi, bad_losses, tough_wins, close_wins, close_wins_perc, weighted_wins, past_resul, momentum]                                           "
   ]
  },
  {
   "cell_type": "code",
   "execution_count": 10,
   "metadata": {
    "collapsed": false
   },
   "outputs": [
    {
     "data": {
      "text/plain": [
       "<module 'march_madness_classes' from 'march_madness_classes.pyc'>"
      ]
     },
     "execution_count": 10,
     "metadata": {},
     "output_type": "execute_result"
    }
   ],
   "source": [
    "reload(mmg)\n",
    "reload(mmc)\n",
    "reload(mmm)"
   ]
  },
  {
   "cell_type": "code",
   "execution_count": 10,
   "metadata": {
    "collapsed": false
   },
   "outputs": [],
   "source": [
    "# create model\n",
    "pred, resp = mmg.generate_multiple_years_of_games(range(2001, 2002), \n",
    "                                                  seeds_arr, \n",
    "                                                  slots_arr, \n",
    "                                                  games_arr, \n",
    "                                                  [\"min_index_id\", \"max_index_id\", \"markov\", \"dominance\", \"rpi\", \"bad_losses\", \"tough_wins\", \"close_wins\", \"close_wins_perc\", \"weighted_wins\", \"past_resul\", \"momentum\"], \n",
    "                                                  [markov_data, dominance, rpi, bad_losses, tough_wins, close_wins, close_wins_perc, weighted_wins, past_resul, momentum],\n",
    "                                                  scoring_dif = False)\n"
   ]
  }
 ],
 "metadata": {
  "anaconda-cloud": {},
  "kernelspec": {
   "display_name": "Python [Root]",
   "language": "python",
   "name": "Python [Root]"
  },
  "language_info": {
   "codemirror_mode": {
    "name": "ipython",
    "version": 2
   },
   "file_extension": ".py",
   "mimetype": "text/x-python",
   "name": "python",
   "nbconvert_exporter": "python",
   "pygments_lexer": "ipython2",
   "version": "2.7.12"
  }
 },
 "nbformat": 4,
 "nbformat_minor": 0
}
