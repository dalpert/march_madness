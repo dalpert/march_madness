{
 "cells": [
  {
   "cell_type": "markdown",
   "metadata": {},
   "source": [
    "# Tournament Simulation"
   ]
  },
  {
   "cell_type": "markdown",
   "metadata": {},
   "source": [
    "- Robert Shaw\n",
    "- Data Driven March Madness\n",
    "\n",
    "In this file, we test code written in march_madness_classes. The code allows us to train a head to head model predicting the the probability of team 1 beating team 2 in a college basketball games based on a logistic model of the probability. We run the tournament n times, counting the expected score of each team over the iterations. We then take the total score over the n iterations and predict head to head matchups as arg_max(points_1, points_2)."
   ]
  },
  {
   "cell_type": "code",
   "execution_count": 9,
   "metadata": {
    "collapsed": false
   },
   "outputs": [],
   "source": [
    "import march_madness_classes as mmc\n",
    "import pandas as pd"
   ]
  },
  {
   "cell_type": "code",
   "execution_count": 18,
   "metadata": {
    "collapsed": false
   },
   "outputs": [],
   "source": [
    "# read in the dataset\n",
    "seeds = pd.read_csv(\"datasets/kaggle_data/TourneySeeds.csv\")\n",
    "slots = pd.read_csv(\"datasets/kaggle_data/TourneySlots.csv\")\n",
    "games = pd.read_csv(\"datasets/kaggle_data/TourneyCompactResults.csv\")\n",
    "\n",
    "seeds_arr = mmc.filter_into_seasons(seeds)\n",
    "slots_arr = mmc.filter_into_seasons(slots)\n",
    "games_arr = mmc.filter_into_seasons(resul)"
   ]
  },
  {
   "cell_type": "code",
   "execution_count": 19,
   "metadata": {
    "collapsed": true
   },
   "outputs": [],
   "source": [
    "# extract predictors\n",
    "markov_data = pd.read_csv(\"datasets/our_data/stationary\", index_col=0)\n",
    "consistency = pd.read_csv(\"datasets/our_data/consistency\", index_col=0)\n",
    "dominance = pd.read_csv(\"datasets/our_data/dominance\", index_col=0)\n",
    "past_resul = pd.read_csv(\"datasets/our_data/past_results\", index_col=0)\n",
    "rpi = pd.read_csv(\"datasets/our_data/rpi\", index_col=0)\n",
    "bad_losses = pd.read_csv(\"datasets/our_data/bad_losses\", index_col=0)\n",
    "tough_wins = pd.read_csv(\"datasets/our_data/tough_wins\", index_col=0)\n",
    "close_games= pd.read_csv(\"datasets/our_data/close_games\", index_col=0)\n",
    "close_wins = pd.read_csv(\"datasets/our_data/close_wins\",index_col=0)\n",
    "close_wins_perc = pd.read_csv(\"datasets/our_data/close_wins_perc\", index_col=0)\n",
    "momentum = pd.read_csv(\"datasets/our_data/momentum\", index_col=0)\n",
    "weighted_wins = pd.read_csv(\"datasets/our_data/weighted_wins\", index_col=0)\n",
    "seed_matrix_df = pd.read_csv(\"datasets/our_data/team_summary_data/seeds_matrix\", index_col=0)"
   ]
  },
  {
   "cell_type": "code",
   "execution_count": 20,
   "metadata": {
    "collapsed": true
   },
   "outputs": [],
   "source": [
    "# get data into correct format\n",
    "predictor_names = [\"min_index_id\", \"max_index_id\", \"markov\", \"dominance\", \"rpi\", \"bad_losses\", \"tough_wins\", \"close_wins\", \"close_wins_perc\", \"weighted_wins\", \"past_resul\", \"momentum\"] \n",
    "predictor_dfs = [markov_data, dominance, rpi, bad_losses, tough_wins, close_wins, close_wins_perc, weighted_wins, past_resul, momentum]                                           "
   ]
  },
  {
   "cell_type": "code",
   "execution_count": 53,
   "metadata": {
    "collapsed": false
   },
   "outputs": [
    {
     "data": {
      "text/plain": [
       "<module 'march_madness_classes' from 'march_madness_classes.py'>"
      ]
     },
     "execution_count": 53,
     "metadata": {},
     "output_type": "execute_result"
    }
   ],
   "source": [
    "reload(mmc)"
   ]
  },
  {
   "cell_type": "code",
   "execution_count": 87,
   "metadata": {
    "collapsed": false
   },
   "outputs": [],
   "source": [
    "pred, resp = mmc.generate_multiple_years_of_games(range(1987, 1999), \n",
    "                                                  seeds_arr, \n",
    "                                                  slots_arr, \n",
    "                                                  games_arr, \n",
    "                                                  [\"min_index_id\", \"max_index_id\", \"markov\", \"dominance\", \"rpi\", \"bad_losses\", \"tough_wins\", \"close_wins\", \"close_wins_perc\", \"weighted_wins\", \"past_resul\", \"momentum\"], \n",
    "                                                  [markov_data, dominance, rpi, bad_losses, tough_wins, close_wins, close_wins_perc, weighted_wins, past_resul, momentum],\n",
    "                                                  scoring_dif = False)\n"
   ]
  },
  {
   "cell_type": "code",
   "execution_count": 89,
   "metadata": {
    "collapsed": false
   },
   "outputs": [],
   "source": [
    "from sklearn.preprocessing import StandardScaler\n",
    "from sklearn.linear_model import LogisticRegression as LogReg"
   ]
  },
  {
   "cell_type": "code",
   "execution_count": 90,
   "metadata": {
    "collapsed": false
   },
   "outputs": [
    {
     "data": {
      "text/plain": [
       "LogisticRegression(C=10, class_weight=None, dual=False, fit_intercept=True,\n",
       "          intercept_scaling=1, max_iter=100, multi_class='ovr', n_jobs=1,\n",
       "          penalty='l2', random_state=None, solver='liblinear', tol=0.0001,\n",
       "          verbose=0, warm_start=False)"
      ]
     },
     "execution_count": 90,
     "metadata": {},
     "output_type": "execute_result"
    }
   ],
   "source": [
    "scaler = StandardScaler().fit(pred.iloc[:, [2,4,5,6,7,10]])\n",
    "\n",
    "log_reg_model = LogReg(C = 10)\n",
    "log_reg_model.fit(scaler.transform(pred.iloc[:, [2,4,5,6,7,10]]), resp.values.T[0])"
   ]
  },
  {
   "cell_type": "markdown",
   "metadata": {},
   "source": [
    "#### Test on 1999"
   ]
  },
  {
   "cell_type": "code",
   "execution_count": 91,
   "metadata": {
    "collapsed": false
   },
   "outputs": [],
   "source": [
    "# get data needed\n",
    "seeds_1999 = seeds_arr[1999-1985] \n",
    "slots_1999 = slots_arr[1999-1985] \n",
    "games_1999 = games_arr[1999-1985]\n",
    "predictors = [\"min_index_team\", \"max_index_team\", \"markov_data\", \"rpi\", \"bad_losses\", \"tough_wins\", \"close_wins\", \"past_resul\"] \n",
    "predictor_dfs = [markov_data, rpi, bad_losses, tough_wins, close_wins, past_resul]"
   ]
  },
  {
   "cell_type": "code",
   "execution_count": 279,
   "metadata": {
    "collapsed": false
   },
   "outputs": [
    {
     "data": {
      "text/plain": [
       "<module 'march_madness_classes' from 'march_madness_classes.py'>"
      ]
     },
     "execution_count": 279,
     "metadata": {},
     "output_type": "execute_result"
    }
   ],
   "source": [
    "reload(mmc)"
   ]
  },
  {
   "cell_type": "code",
   "execution_count": 284,
   "metadata": {
    "collapsed": false
   },
   "outputs": [],
   "source": [
    "head_to_head_model_1999 = mmc.ModelPredictor(log_reg_model, scaler, predictor_dfs, 1999, simulation=True)\n",
    "\n",
    "simulator_1999 = mmc.Simulator(seeds_1999, slots_1999, head_to_head_model_1999)\n",
    "\n",
    "points = simulator_1999.simulate_tournament(100)\n",
    "\n",
    "bracket = simulator_1999.predict_tournament()"
   ]
  },
  {
   "cell_type": "code",
   "execution_count": 303,
   "metadata": {
    "collapsed": false
   },
   "outputs": [],
   "source": [
    "actual_model= mmc.ActualTournament(games_arr[1999-1985])\n",
    "actual_tourney = mmc.Tournament(seeds_1999, slots_1999, actual_model, include_scoring_dif=False)"
   ]
  },
  {
   "cell_type": "code",
   "execution_count": 286,
   "metadata": {
    "collapsed": false
   },
   "outputs": [
    {
     "name": "stdout",
     "output_type": "stream",
     "text": [
      "Total Points  : 1120\n",
      "\n",
      "Total Accuracy: 40 / 63 = 0.634920634921\n",
      "R1    Accuracy: 22 / 32 = 0.6875\n",
      "R2    Accuracy: 9 / 16 = 0.5625\n",
      "R3    Accuracy: 4 / 8 = 0.5\n",
      "R4    Accuracy: 3 / 4 = 0.75\n",
      "R5    Accuracy: 2 / 2 = 1.0\n",
      "R6    Accuracy: 0 / 1 = 0.0\n"
     ]
    },
    {
     "data": {
      "text/plain": [
       "(1120, 0.6349206349206349)"
      ]
     },
     "execution_count": 286,
     "metadata": {},
     "output_type": "execute_result"
    }
   ],
   "source": [
    "simulator_1999.score_tournament(actual_tourney)"
   ]
  },
  {
   "cell_type": "code",
   "execution_count": 304,
   "metadata": {
    "collapsed": false
   },
   "outputs": [
    {
     "name": "stdout",
     "output_type": "stream",
     "text": [
      "Total Points  : 1100\n",
      "\n",
      "Total Accuracy: 39 / 63 = 0.619047619048\n",
      "R1    Accuracy: 22 / 32 = 0.6875\n",
      "R2    Accuracy: 8 / 16 = 0.5\n",
      "R3    Accuracy: 4 / 8 = 0.5\n",
      "R4    Accuracy: 3 / 4 = 0.75\n",
      "R5    Accuracy: 2 / 2 = 1.0\n",
      "R6    Accuracy: 0 / 1 = 0.0\n"
     ]
    },
    {
     "data": {
      "text/plain": [
       "(1100, 0.6190476190476191)"
      ]
     },
     "execution_count": 304,
     "metadata": {},
     "output_type": "execute_result"
    }
   ],
   "source": [
    "simple_model = mmc.ModelPredictor(log_reg_model, scaler, predictor_dfs, 1999, simulation=False)\n",
    "simple_tourney = mmc.Tournament(seeds_1999, slots_1999, simple_model, include_scoring_dif=False)\n",
    "\n",
    "simple_tourney.score_tournament(actual_tourney, print_res=True)"
   ]
  },
  {
   "cell_type": "code",
   "execution_count": 305,
   "metadata": {
    "collapsed": false
   },
   "outputs": [
    {
     "name": "stdout",
     "output_type": "stream",
     "text": [
      "Total Points  : 880\n",
      "\n",
      "Total Accuracy: 35 / 63 = 0.555555555556\n",
      "R1    Accuracy: 20 / 32 = 0.625\n",
      "R2    Accuracy: 8 / 16 = 0.5\n",
      "R3    Accuracy: 3 / 8 = 0.375\n",
      "R4    Accuracy: 3 / 4 = 0.75\n",
      "R5    Accuracy: 1 / 2 = 0.5\n",
      "R6    Accuracy: 0 / 1 = 0.0\n"
     ]
    },
    {
     "data": {
      "text/plain": [
       "(880, 0.5555555555555556)"
      ]
     },
     "execution_count": 305,
     "metadata": {},
     "output_type": "execute_result"
    }
   ],
   "source": [
    "basic_model = mmc.BasicPredictor()\n",
    "basic_tourney = mmc.Tournament(seeds_1999, slots_1999, basic_model, include_scoring_dif=False)\n",
    "\n",
    "basic_tourney.score_tournament(actual_tourney, print_res=True)"
   ]
  }
 ],
 "metadata": {
  "kernelspec": {
   "display_name": "Python [Root]",
   "language": "python",
   "name": "Python [Root]"
  },
  "language_info": {
   "codemirror_mode": {
    "name": "ipython",
    "version": 2
   },
   "file_extension": ".py",
   "mimetype": "text/x-python",
   "name": "python",
   "nbconvert_exporter": "python",
   "pygments_lexer": "ipython2",
   "version": "2.7.12"
  }
 },
 "nbformat": 4,
 "nbformat_minor": 0
}
