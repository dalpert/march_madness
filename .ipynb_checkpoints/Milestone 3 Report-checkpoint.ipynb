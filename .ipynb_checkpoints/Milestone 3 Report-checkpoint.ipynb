{
 "cells": [
  {
   "cell_type": "markdown",
   "metadata": {
    "nbpresent": {
     "id": "1c84dc13-02b3-4067-ad36-cb2c178f60db"
    }
   },
   "source": [
    "[Data Driven March Madness] Milestone#3 \n",
    "\n",
    "Robert Shaw, Sean Coleman, Spencer Evans, Daniel Alpert"
   ]
  },
  {
   "cell_type": "markdown",
   "metadata": {},
   "source": [
    "In this phase of the project, we cleaned the kaggle dataset and investigated some possible predictors to include in our model. Since the kaggle database contains a list of games played over the years, without any sort of summary statistics, we decided to create a variety of predictors to test. We created the 11 variables for all teams over the regular season data from 1985-2016. Although our actual model will eventually predict the probability of a team winning a particular game, we have not made this model, yet. However, in making these variables we wanted to test which ones are useful predictors of tournament success. As such, we used a proxy to identify predictors which may be important in our model: total tournament wins. This response is a great proxy for the probability a team will win a particular post season game, becuase it is the ultimate metric of post-season success. The variables are listed below, coupled with several graphs of the correlations between the individual predictors and number of tournament wins. However, it is important to note that these variables will be highly coorelated, so even if we see a relationship with the response, it does not mean that these variables will have predictive significence on their own. As such, we will have to use cross validation in our variable selection. These are simply candidate variables, which we will test. \n",
    "\n",
    "    1) Regular Season Win Percentage\n",
    "<img src=\"img/win_pct.png\">\n",
    "\n",
    "    2) RPI (Strength of Schedule)\n",
    "<img src=\"img/rpi.png\">\n",
    "\n",
    "    3) Win Percentage Vs Tournament Teams\n",
    "<img src=\"img/win_pct_vs_tournament_teams.png\">\n",
    "\n",
    "    4) Good Wins (Wins Vs Tournament Teams)\n",
    "<img src=\"img/good_wins.png\">\n",
    "\n",
    "    5) Bad Losses (Losses Vs Non-Tournament Teams)\n",
    "<img src=\"img/bad_losses.png\">\n",
    "\n",
    "    6) Consistency (Std. Scoring Differential)\n",
    "<img src=\"img/consistency.png\">\n",
    "\n",
    "    7) Dominance (Avg. Scoring Differential)\n",
    "    \n",
    "    8) Away Wins\n",
    "    \n",
    "    9) Tough Wins (Away Win Vs Tournament Teams)\n",
    "\n",
    "    10) Defensive Prowess (Avg Points Against)\n",
    "\n",
    "    11) Offensive Prowess (Avg Points For)\n",
    "\n",
    "Finally, although these are the variables we have identified thus far, we are also considering using some metrics outside of the kaggle database about the coaches and players of each of the teams. Specifically, we will be looking at the experience of the coaches and impactful returning players in the tournament to see if there is some relationship. We will also be looking at the momentum of teams who are peaking at the right time in the season. We will also be looking at teams with star players, capable of taking over a game. These are just some initial ideas to begin with, we will be exploring many more variables as the process continues."
   ]
  },
  {
   "cell_type": "code",
   "execution_count": null,
   "metadata": {
    "collapsed": true
   },
   "outputs": [],
   "source": []
  }
 ],
 "metadata": {
  "anaconda-cloud": {},
  "kernelspec": {
   "display_name": "Python [Root]",
   "language": "python",
   "name": "Python [Root]"
  },
  "language_info": {
   "codemirror_mode": {
    "name": "ipython",
    "version": 2
   },
   "file_extension": ".py",
   "mimetype": "text/x-python",
   "name": "python",
   "nbconvert_exporter": "python",
   "pygments_lexer": "ipython2",
   "version": "2.7.12"
  },
  "nbpresent": {
   "slides": {},
   "themes": {
    "default": "0f7e3684-951e-49c3-a95e-d8cc9af01610",
    "theme": {}
   }
  }
 },
 "nbformat": 4,
 "nbformat_minor": 0
}
