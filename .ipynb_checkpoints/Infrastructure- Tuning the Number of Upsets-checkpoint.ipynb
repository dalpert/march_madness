{
 "cells": [
  {
   "cell_type": "markdown",
   "metadata": {},
   "source": [
    "# Testing Code For Tuning Number of Upsets\n",
    "- Robert Shaw\n",
    "- CS109a Project: Data Driven March Madness"
   ]
  },
  {
   "cell_type": "markdown",
   "metadata": {},
   "source": [
    "In this file, we test the code that allows us to tune the number of predicted upset. The actual code that allows this to work is found in march_madness_models.py. The ModelPredictor class was update to allow arguments that tune the prediction by adding bias to the modeled probability."
   ]
  },
  {
   "cell_type": "markdown",
   "metadata": {},
   "source": [
    "---\n",
    "\n",
    "#### 1) Load in our data "
   ]
  },
  {
   "cell_type": "code",
   "execution_count": 9,
   "metadata": {
    "collapsed": true
   },
   "outputs": [],
   "source": [
    "import march_madness_classes as mmc\n",
    "import march_madness_games as mmg\n",
    "import march_madness_models as mmm\n",
    "import pandas as pd\n",
    "from sklearn.preprocessing import StandardScaler\n",
    "from sklearn.linear_model import LogisticRegression as LogReg"
   ]
  },
  {
   "cell_type": "code",
   "execution_count": 4,
   "metadata": {
    "collapsed": true
   },
   "outputs": [],
   "source": [
    "# read in the dataset\n",
    "seeds = pd.read_csv(\"datasets/kaggle_data/TourneySeeds.csv\")\n",
    "slots = pd.read_csv(\"datasets/kaggle_data/TourneySlots.csv\")\n",
    "games = pd.read_csv(\"datasets/kaggle_data/TourneyCompactResults.csv\")\n",
    "\n",
    "seeds_arr = mmg.filter_into_seasons(seeds)\n",
    "slots_arr = mmg.filter_into_seasons(slots)\n",
    "games_arr = mmg.filter_into_seasons(games)"
   ]
  },
  {
   "cell_type": "code",
   "execution_count": 5,
   "metadata": {
    "collapsed": true
   },
   "outputs": [],
   "source": [
    "# extract predictors\n",
    "markov_data = pd.read_csv(\"datasets/our_data/stationary\", index_col=0)\n",
    "consistency = pd.read_csv(\"datasets/our_data/consistency\", index_col=0)\n",
    "dominance = pd.read_csv(\"datasets/our_data/dominance\", index_col=0)\n",
    "past_resul = pd.read_csv(\"datasets/our_data/past_results\", index_col=0)\n",
    "rpi = pd.read_csv(\"datasets/our_data/rpi\", index_col=0)\n",
    "bad_losses = pd.read_csv(\"datasets/our_data/bad_losses\", index_col=0)\n",
    "tough_wins = pd.read_csv(\"datasets/our_data/tough_wins\", index_col=0)\n",
    "close_games= pd.read_csv(\"datasets/our_data/close_games\", index_col=0)\n",
    "close_wins = pd.read_csv(\"datasets/our_data/close_wins\",index_col=0)\n",
    "close_wins_perc = pd.read_csv(\"datasets/our_data/close_wins_perc\", index_col=0)\n",
    "momentum = pd.read_csv(\"datasets/our_data/momentum\", index_col=0)\n",
    "weighted_wins = pd.read_csv(\"datasets/our_data/weighted_wins\", index_col=0)\n",
    "seed_matrix_df = pd.read_csv(\"datasets/our_data/team_summary_data/seeds_matrix\", index_col=0)"
   ]
  },
  {
   "cell_type": "code",
   "execution_count": 6,
   "metadata": {
    "collapsed": true
   },
   "outputs": [],
   "source": [
    "# get data into correct format\n",
    "predictor_names = [\"min_index_id\", \"max_index_id\", \"markov\", \"dominance\", \"rpi\", \"bad_losses\", \"tough_wins\", \"close_wins\", \"close_wins_perc\", \"weighted_wins\", \"past_resul\", \"momentum\"] \n",
    "predictor_dfs = [markov_data, dominance, rpi, bad_losses, tough_wins, close_wins, close_wins_perc, weighted_wins, past_resul, momentum]                                           "
   ]
  },
  {
   "cell_type": "markdown",
   "metadata": {},
   "source": [
    "---\n",
    "\n",
    "#### 2) Train a Basic Model for Testing Our Code"
   ]
  },
  {
   "cell_type": "code",
   "execution_count": 7,
   "metadata": {
    "collapsed": true
   },
   "outputs": [],
   "source": [
    "# pred and resp to build a model\n",
    "pred, resp = mmg.generate_multiple_years_of_games(range(1987, 2001), \n",
    "                                                  seeds_arr, \n",
    "                                                  slots_arr, \n",
    "                                                  games_arr, \n",
    "                                                  [\"min_index_id\", \"max_index_id\", \"markov\", \"dominance\", \"rpi\", \"bad_losses\", \"tough_wins\", \"close_wins\", \"close_wins_perc\", \"weighted_wins\", \"past_resul\", \"momentum\"], \n",
    "                                                  [markov_data, dominance, rpi, bad_losses, tough_wins, close_wins, close_wins_perc, weighted_wins, past_resul, momentum],\n",
    "                                                  scoring_dif = False)"
   ]
  },
  {
   "cell_type": "code",
   "execution_count": 10,
   "metadata": {
    "collapsed": false
   },
   "outputs": [
    {
     "data": {
      "text/plain": [
       "LogisticRegression(C=10, class_weight=None, dual=False, fit_intercept=True,\n",
       "          intercept_scaling=1, max_iter=100, multi_class='ovr', n_jobs=1,\n",
       "          penalty='l2', random_state=None, solver='liblinear', tol=0.0001,\n",
       "          verbose=0, warm_start=False)"
      ]
     },
     "execution_count": 10,
     "metadata": {},
     "output_type": "execute_result"
    }
   ],
   "source": [
    "# build a simple model for testing our adjusted model\n",
    "scaler = StandardScaler().fit(pred.iloc[:, [2,4,5,6,7,10]])\n",
    "\n",
    "log_reg_model = LogReg(C = 10)\n",
    "log_reg_model.fit(scaler.transform(pred.iloc[:, [2,4,5,6,7,10]]), resp.values.T[0])"
   ]
  },
  {
   "cell_type": "markdown",
   "metadata": {},
   "source": [
    "---\n",
    "\n",
    "#### 3) Test Functionality of the Code on 2002\n",
    "Note: the code that we are testing is in march_madness_models.py"
   ]
  },
  {
   "cell_type": "code",
   "execution_count": 190,
   "metadata": {
    "collapsed": true
   },
   "outputs": [],
   "source": [
    "# get data needed\n",
    "predictors = [\"min_index_team\", \"max_index_team\", \"markov_data\", \"rpi\", \"bad_losses\", \"tough_wins\", \"close_wins\", \"past_resul\"] \n",
    "predictor_dfs = [markov_data, rpi, bad_losses, tough_wins, close_wins, past_resul]"
   ]
  },
  {
   "cell_type": "code",
   "execution_count": 203,
   "metadata": {
    "collapsed": false
   },
   "outputs": [
    {
     "data": {
      "text/plain": [
       "<module 'march_madness_models' from 'march_madness_models.py'>"
      ]
     },
     "execution_count": 203,
     "metadata": {},
     "output_type": "execute_result"
    }
   ],
   "source": [
    "reload(mmm)"
   ]
  },
  {
   "cell_type": "code",
   "execution_count": 215,
   "metadata": {
    "collapsed": false
   },
   "outputs": [],
   "source": [
    "year = 2002\n",
    "seeds = seeds_arr[year - 1985]\n",
    "slots = slots_arr[year - 1985]\n",
    "resul = games_arr[year - 1985]\n",
    "\n",
    "# biased model ---> predicts upsets with proability p + .05 (where p comes from log reg model)\n",
    "head_to_head_biased_model = mmm.ModelPredictor(log_reg_model, \n",
    "                                               scaler,\n",
    "                                               predictor_dfs, \n",
    "                                               year, \n",
    "                                               simulation=False, \n",
    "                                               higher_seed_bias=True, \n",
    "                                               seeds_df=seeds, \n",
    "                                               higher_seed_bias_delta=.05)\n",
    "\n",
    "\n",
    "# biased model with cooling ----> predicts upsets with proability p + .05 * cooling_factor (where p comes from log reg model)\n",
    "head_to_head_biased_model_cooling = mmm.ModelPredictor(log_reg_model, \n",
    "                                                       scaler, \n",
    "                                                       predictor_dfs, \n",
    "                                                       year, \n",
    "                                                       seeds_df=seeds, \n",
    "                                                       simulation=False, \n",
    "                                                       higher_seed_bias=True, \n",
    "                                                       higher_seed_bias_delta=.01,\n",
    "                                                       cooling = {6:10, 5:10, 4:10, 3:10, 2:-5, 1:-5}\n",
    "                                                      )\n",
    "\n",
    "# unbiased model ----> predicts based on head to head log reg model\n",
    "head_to_head_unbiased_model = mmm.ModelPredictor(log_reg_model, scaler, predictor_dfs, year, simulation=False, higher_seed_bias=False, seeds_df=seeds)\n",
    "\n",
    "\n",
    "# for comparison\n",
    "tourney_actual = mmc.Tournament(seeds, slots, mmm.ActualTournament(resul))\n",
    "tourney_top_seed = mmc.Tournament(seeds, slots, mmm.BasicPredictor())\n",
    "\n",
    "# predict tournament\n",
    "tourney_biased_model = mmc.Tournament(seeds, slots, head_to_head_biased_model)\n",
    "tourney_biased_model_cooling = mmc.Tournament(seeds, slots, head_to_head_biased_model_cooling)\n",
    "tourney_unbiased_model = mmc.Tournament(seeds, slots, head_to_head_unbiased_model)"
   ]
  },
  {
   "cell_type": "markdown",
   "metadata": {},
   "source": [
    "----\n",
    "\n",
    "#### 4) Results"
   ]
  },
  {
   "cell_type": "code",
   "execution_count": 216,
   "metadata": {
    "collapsed": false
   },
   "outputs": [
    {
     "name": "stdout",
     "output_type": "stream",
     "text": [
      "Total Points  : 1290\n",
      "\n",
      "Total Accuracy: 44 / 63 = 0.698412698413\n",
      "R1    Accuracy: 25 / 32 = 0.78125\n",
      "R2    Accuracy: 10 / 16 = 0.625\n",
      "R3    Accuracy: 5 / 8 = 0.625\n",
      "R4    Accuracy: 2 / 4 = 0.5\n",
      "R5    Accuracy: 1 / 2 = 0.5\n",
      "R6    Accuracy: 1 / 1 = 1.0\n"
     ]
    },
    {
     "data": {
      "text/plain": [
       "(1290, 0.6984126984126984)"
      ]
     },
     "execution_count": 216,
     "metadata": {},
     "output_type": "execute_result"
    }
   ],
   "source": [
    "# predicting the higher seed each game\n",
    "tourney_top_seed.score_tournament(tourney_actual, print_res=True)"
   ]
  },
  {
   "cell_type": "code",
   "execution_count": 217,
   "metadata": {
    "collapsed": false
   },
   "outputs": [
    {
     "name": "stdout",
     "output_type": "stream",
     "text": [
      "Total Points  : 740\n",
      "\n",
      "Total Accuracy: 39 / 63 = 0.619047619048\n",
      "R1    Accuracy: 24 / 32 = 0.75\n",
      "R2    Accuracy: 9 / 16 = 0.5625\n",
      "R3    Accuracy: 4 / 8 = 0.5\n",
      "R4    Accuracy: 2 / 4 = 0.5\n",
      "R5    Accuracy: 0 / 2 = 0.0\n",
      "R6    Accuracy: 0 / 1 = 0.0\n"
     ]
    },
    {
     "data": {
      "text/plain": [
       "(740, 0.6190476190476191)"
      ]
     },
     "execution_count": 217,
     "metadata": {},
     "output_type": "execute_result"
    }
   ],
   "source": [
    "# predicting the with biased model\n",
    "tourney_biased_model.score_tournament(tourney_actual, print_res=True)"
   ]
  },
  {
   "cell_type": "code",
   "execution_count": 218,
   "metadata": {
    "collapsed": false
   },
   "outputs": [
    {
     "name": "stdout",
     "output_type": "stream",
     "text": [
      "Total Points  : 800\n",
      "\n",
      "Total Accuracy: 40 / 63 = 0.634920634921\n",
      "R1    Accuracy: 24 / 32 = 0.75\n",
      "R2    Accuracy: 10 / 16 = 0.625\n",
      "R3    Accuracy: 3 / 8 = 0.375\n",
      "R4    Accuracy: 3 / 4 = 0.75\n",
      "R5    Accuracy: 0 / 2 = 0.0\n",
      "R6    Accuracy: 0 / 1 = 0.0\n"
     ]
    },
    {
     "data": {
      "text/plain": [
       "(800, 0.6349206349206349)"
      ]
     },
     "execution_count": 218,
     "metadata": {},
     "output_type": "execute_result"
    }
   ],
   "source": [
    "# predicting the with biased model cooling\n",
    "tourney_biased_model_cooling.score_tournament(tourney_actual, print_res=True)"
   ]
  },
  {
   "cell_type": "code",
   "execution_count": 219,
   "metadata": {
    "collapsed": false
   },
   "outputs": [
    {
     "name": "stdout",
     "output_type": "stream",
     "text": [
      "Total Points  : 720\n",
      "\n",
      "Total Accuracy: 38 / 63 = 0.603174603175\n",
      "R1    Accuracy: 24 / 32 = 0.75\n",
      "R2    Accuracy: 8 / 16 = 0.5\n",
      "R3    Accuracy: 4 / 8 = 0.5\n",
      "R4    Accuracy: 2 / 4 = 0.5\n",
      "R5    Accuracy: 0 / 2 = 0.0\n",
      "R6    Accuracy: 0 / 1 = 0.0\n"
     ]
    },
    {
     "data": {
      "text/plain": [
       "(720, 0.6031746031746031)"
      ]
     },
     "execution_count": 219,
     "metadata": {},
     "output_type": "execute_result"
    }
   ],
   "source": [
    "# predicting with \n",
    "tourney_unbiased_model.score_tournament(tourney_actual, print_res=True)"
   ]
  },
  {
   "cell_type": "markdown",
   "metadata": {},
   "source": [
    "---\n",
    "\n",
    "#### 5) Compare Models"
   ]
  },
  {
   "cell_type": "code",
   "execution_count": 220,
   "metadata": {
    "collapsed": false
   },
   "outputs": [
    {
     "name": "stdout",
     "output_type": "stream",
     "text": [
      "Total Points  : 1820\n",
      "\n",
      "Total Accuracy: 58 / 63 = 0.920634920635\n",
      "R1    Accuracy: 30 / 32 = 0.9375\n",
      "R2    Accuracy: 14 / 16 = 0.875\n",
      "R3    Accuracy: 7 / 8 = 0.875\n",
      "R4    Accuracy: 4 / 4 = 1.0\n",
      "R5    Accuracy: 2 / 2 = 1.0\n",
      "R6    Accuracy: 1 / 1 = 1.0\n"
     ]
    },
    {
     "data": {
      "text/plain": [
       "(1820, 0.9206349206349206)"
      ]
     },
     "execution_count": 220,
     "metadata": {},
     "output_type": "execute_result"
    }
   ],
   "source": [
    "# check differences with the unbiased model\n",
    "tourney_biased_model.score_tournament(tourney_unbiased_model, print_res=True)"
   ]
  },
  {
   "cell_type": "code",
   "execution_count": 221,
   "metadata": {
    "collapsed": false
   },
   "outputs": [
    {
     "name": "stdout",
     "output_type": "stream",
     "text": [
      "Total Points  : 1700\n",
      "\n",
      "Total Accuracy: 57 / 63 = 0.904761904762\n",
      "R1    Accuracy: 32 / 32 = 1.0\n",
      "R2    Accuracy: 13 / 16 = 0.8125\n",
      "R3    Accuracy: 6 / 8 = 0.75\n",
      "R4    Accuracy: 3 / 4 = 0.75\n",
      "R5    Accuracy: 2 / 2 = 1.0\n",
      "R6    Accuracy: 1 / 1 = 1.0\n"
     ]
    },
    {
     "data": {
      "text/plain": [
       "(1700, 0.9047619047619048)"
      ]
     },
     "execution_count": 221,
     "metadata": {},
     "output_type": "execute_result"
    }
   ],
   "source": [
    "# check differences with the unbiased model\n",
    "tourney_biased_model_cooling.score_tournament(tourney_unbiased_model, print_res=True)"
   ]
  },
  {
   "cell_type": "code",
   "execution_count": 225,
   "metadata": {
    "collapsed": false
   },
   "outputs": [
    {
     "name": "stdout",
     "output_type": "stream",
     "text": [
      "Total Points  : 1680\n",
      "\n",
      "Total Accuracy: 54 / 63 = 0.857142857143\n",
      "R1    Accuracy: 30 / 32 = 0.9375\n",
      "R2    Accuracy: 11 / 16 = 0.6875\n",
      "R3    Accuracy: 7 / 8 = 0.875\n",
      "R4    Accuracy: 3 / 4 = 0.75\n",
      "R5    Accuracy: 2 / 2 = 1.0\n",
      "R6    Accuracy: 1 / 1 = 1.0\n"
     ]
    },
    {
     "data": {
      "text/plain": [
       "(1680, 0.8571428571428571)"
      ]
     },
     "execution_count": 225,
     "metadata": {},
     "output_type": "execute_result"
    }
   ],
   "source": [
    "tourney_biased_model_cooling.score_tournament(tourney_biased_model, print_res=True)"
   ]
  },
  {
   "cell_type": "code",
   "execution_count": 222,
   "metadata": {
    "collapsed": false
   },
   "outputs": [
    {
     "name": "stdout",
     "output_type": "stream",
     "text": [
      "Total Points  : 1230\n",
      "\n",
      "Total Accuracy: 51 / 63 = 0.809523809524\n",
      "R1    Accuracy: 29 / 32 = 0.90625\n",
      "R2    Accuracy: 11 / 16 = 0.6875\n",
      "R3    Accuracy: 6 / 8 = 0.75\n",
      "R4    Accuracy: 4 / 4 = 1.0\n",
      "R5    Accuracy: 1 / 2 = 0.5\n",
      "R6    Accuracy: 0 / 1 = 0.0\n"
     ]
    },
    {
     "data": {
      "text/plain": [
       "(1230, 0.8095238095238095)"
      ]
     },
     "execution_count": 222,
     "metadata": {},
     "output_type": "execute_result"
    }
   ],
   "source": [
    "# check differences with the top seed model\n",
    "tourney_biased_model.score_tournament(tourney_top_seed, print_res=True)"
   ]
  },
  {
   "cell_type": "code",
   "execution_count": 223,
   "metadata": {
    "collapsed": false
   },
   "outputs": [
    {
     "name": "stdout",
     "output_type": "stream",
     "text": [
      "Total Points  : 1230\n",
      "\n",
      "Total Accuracy: 56 / 63 = 0.888888888889\n",
      "R1    Accuracy: 31 / 32 = 0.96875\n",
      "R2    Accuracy: 16 / 16 = 1.0\n",
      "R3    Accuracy: 5 / 8 = 0.625\n",
      "R4    Accuracy: 3 / 4 = 0.75\n",
      "R5    Accuracy: 1 / 2 = 0.5\n",
      "R6    Accuracy: 0 / 1 = 0.0\n"
     ]
    },
    {
     "data": {
      "text/plain": [
       "(1230, 0.8888888888888888)"
      ]
     },
     "execution_count": 223,
     "metadata": {},
     "output_type": "execute_result"
    }
   ],
   "source": [
    "# check differences with the top seed model\n",
    "tourney_biased_model_cooling.score_tournament(tourney_top_seed, print_res=True)"
   ]
  },
  {
   "cell_type": "code",
   "execution_count": 224,
   "metadata": {
    "collapsed": false
   },
   "outputs": [
    {
     "name": "stdout",
     "output_type": "stream",
     "text": [
      "Total Points  : 1330\n",
      "\n",
      "Total Accuracy: 56 / 63 = 0.888888888889\n",
      "R1    Accuracy: 31 / 32 = 0.96875\n",
      "R2    Accuracy: 13 / 16 = 0.8125\n",
      "R3    Accuracy: 7 / 8 = 0.875\n",
      "R4    Accuracy: 4 / 4 = 1.0\n",
      "R5    Accuracy: 1 / 2 = 0.5\n",
      "R6    Accuracy: 0 / 1 = 0.0\n"
     ]
    },
    {
     "data": {
      "text/plain": [
       "(1330, 0.8888888888888888)"
      ]
     },
     "execution_count": 224,
     "metadata": {},
     "output_type": "execute_result"
    }
   ],
   "source": [
    "# check differences with the top seed model\n",
    "tourney_unbiased_model.score_tournament(tourney_top_seed, print_res=True)"
   ]
  }
 ],
 "metadata": {
  "kernelspec": {
   "display_name": "Python [Root]",
   "language": "python",
   "name": "Python [Root]"
  },
  "language_info": {
   "codemirror_mode": {
    "name": "ipython",
    "version": 2
   },
   "file_extension": ".py",
   "mimetype": "text/x-python",
   "name": "python",
   "nbconvert_exporter": "python",
   "pygments_lexer": "ipython2",
   "version": "2.7.12"
  }
 },
 "nbformat": 4,
 "nbformat_minor": 0
}
