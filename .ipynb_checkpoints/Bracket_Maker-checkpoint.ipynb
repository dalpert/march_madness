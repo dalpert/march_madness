{
 "cells": [
  {
   "cell_type": "code",
   "execution_count": 3,
   "metadata": {
    "collapsed": true
   },
   "outputs": [],
   "source": [
    "# import libraries\n",
    "import numpy as np\n",
    "import pandas as pd\n",
    "import matplotlib\n",
    "import matplotlib.pyplot as plt\n",
    "%matplotlib inline"
   ]
  },
  {
   "cell_type": "code",
   "execution_count": 4,
   "metadata": {
    "collapsed": false
   },
   "outputs": [],
   "source": [
    "# read in the dataset\n",
    "tournament_data = pd.read_csv(\"datasets/kaggle_data/TourneyCompactResults.csv\")\n",
    "teams = pd.read_csv(\"datasets/kaggle_data/Teams.csv\")\n",
    "seeds = pd.read_csv(\"datasets/kaggle_data/TourneySeeds.csv\")\n",
    "slots = pd.read_csv(\"datasets/kaggle_data/TourneySlots.csv\")"
   ]
  },
  {
   "cell_type": "code",
   "execution_count": 5,
   "metadata": {
    "collapsed": true
   },
   "outputs": [],
   "source": [
    "# filtration function\n",
    "def filter_season(data, season):\n",
    "    return data[data[\"Season\"] == season]\n",
    "    \n",
    "def filter_into_seasons(data):\n",
    "    # buffer to hold list of seasons\n",
    "    season_arr = []\n",
    "    \n",
    "    # min and max\n",
    "    max_season = data[\"Season\"].max()\n",
    "    min_season = data[\"Season\"].min()\n",
    "    \n",
    "    # filter\n",
    "    for season in range(min_season, max_season + 1):\n",
    "        season_arr.append(filter_season(data, season))\n",
    "        \n",
    "    return season_arr"
   ]
  },
  {
   "cell_type": "code",
   "execution_count": 6,
   "metadata": {
    "collapsed": false
   },
   "outputs": [],
   "source": [
    "tournaments = filter_into_seasons(tournament_data)"
   ]
  },
  {
   "cell_type": "code",
   "execution_count": 7,
   "metadata": {
    "collapsed": true
   },
   "outputs": [],
   "source": [
    "seeds_by_year = filter_into_seasons(seeds)"
   ]
  },
  {
   "cell_type": "code",
   "execution_count": 8,
   "metadata": {
    "collapsed": true
   },
   "outputs": [],
   "source": [
    "slots_by_year = filter_into_seasons(slots)"
   ]
  },
  {
   "cell_type": "code",
   "execution_count": 9,
   "metadata": {
    "collapsed": false
   },
   "outputs": [],
   "source": [
    "pi_s = []\n",
    "i = 1985\n",
    "for tournament in tournaments:\n",
    "    pi = pd.read_csv(\"datasets/our_data/{}_stationary_distribution\".format(i), index_col=0)\n",
    "    \n",
    "    pi_s.append(pi)"
   ]
  },
  {
   "cell_type": "code",
   "execution_count": 10,
   "metadata": {
    "collapsed": false
   },
   "outputs": [],
   "source": [
    "from sklearn.linear_model import LogisticRegression as LogReg\n",
    "from sklearn.svm import SVC"
   ]
  },
  {
   "cell_type": "code",
   "execution_count": 11,
   "metadata": {
    "collapsed": true
   },
   "outputs": [],
   "source": [
    "tourney_1985 = tournaments[0][[\"Wteam\", \"Lteam\"]].values\n",
    "tourney_1985_df = pd.DataFrame(data=tourney_1985, index = tournaments[0].index, columns=[\"Wteam\", \"Lteam\"])\n",
    "pi_1985 = pi_s[0]\n",
    "\n",
    "# columns to be filled\n",
    "tourney_1985_df[\"pi_1\"]  = np.zeros(tourney_1985.shape[0])\n",
    "tourney_1985_df[\"pi_2\"]  = np.zeros(tourney_1985.shape[0])\n",
    "tourney_1985_df[\"win_1\"] = np.zeros(tourney_1985.shape[0])\n",
    "\n",
    "for index, game in tourney_1985_df.iterrows():\n",
    "    # team 1 v team 2 (by alphabetical order)\n",
    "    team_1 = min(game[\"Wteam\"], game[\"Lteam\"])\n",
    "    team_2 = max(game[\"Wteam\"], game[\"Lteam\"])\n",
    "    \n",
    "    # stationary distribution probabilties\n",
    "    tourney_1985_df.set_value(index, \"pi_1\", pi_1985.loc[team_1])\n",
    "    tourney_1985_df.set_value(index, \"pi_2\", pi_1985.loc[team_2])\n",
    "    \n",
    "    # indicator rv\n",
    "    if team_1 == game[\"Wteam\"]:\n",
    "        tourney_1985_df.set_value(index, \"win_1\", 1)\n",
    "    else:\n",
    "        tourney_1985_df.set_value(index, \"win_1\", 0)"
   ]
  },
  {
   "cell_type": "code",
   "execution_count": 72,
   "metadata": {
    "collapsed": true
   },
   "outputs": [],
   "source": [
    "def plot_decision_boundary(x, y, model, title, ax, bounds=(0, .015), poly_flag=False):\n",
    "    # Plot data\n",
    "    ax.scatter(x[y == 1, 0], x[y == 1, 1], c='green', label=\"Team 1 Win\")\n",
    "    ax.scatter(x[y == 0, 0], x[y == 0, 1], c='white', label=\"Team 2 Win\")\n",
    "\n",
    "    # Create mesh\n",
    "    interval = np.arange(bounds[0], bounds[1], 0.001)\n",
    "    n = np.size(interval)\n",
    "    x1, x2 = np.meshgrid(interval, interval)\n",
    "    x1 = x1.reshape(-1, 1)\n",
    "    x2 = x2.reshape(-1, 1)\n",
    "    xx = np.concatenate((x1, x2), axis=1)\n",
    "\n",
    "    # Predict on mesh points\n",
    "    if(poly_flag):\n",
    "        quad_features = preprocessing.PolynomialFeatures(degree=2)\n",
    "        xx = quad_features.fit_transform(xx)\n",
    "        \n",
    "    yy = model.predict(xx)    \n",
    "    yy = yy.reshape((n, n))\n",
    "\n",
    "    # Plot decision surface\n",
    "    x1 = x1.reshape(n, n)\n",
    "    x2 = x2.reshape(n, n)\n",
    "    ax.contourf(x1, x2, yy, alpha=0.1, cmap='Greens')\n",
    "    \n",
    "    # Label axes, set title\n",
    "    ax.set_title(title)\n",
    "    ax.set_xlabel('$\\pi_1$')\n",
    "    ax.set_ylabel('$\\pi_2$')\n",
    "    ax.legend()\n",
    "    \n",
    "    return ax"
   ]
  },
  {
   "cell_type": "code",
   "execution_count": 75,
   "metadata": {
    "collapsed": false
   },
   "outputs": [
    {
     "name": "stdout",
     "output_type": "stream",
     "text": [
      "0.714285714286\n"
     ]
    },
    {
     "data": {
      "text/plain": [
       "<matplotlib.axes._subplots.AxesSubplot at 0x11f80bdd0>"
      ]
     },
     "execution_count": 75,
     "metadata": {},
     "output_type": "execute_result"
    },
    {
     "data": {
      "image/png": "[encoded data removed]",
      "text/plain": [
       "<matplotlib.figure.Figure at 0x11f80b710>"
      ]
     },
     "metadata": {},
     "output_type": "display_data"
    }
   ],
   "source": [
    "x = tourney_1985_df[[\"pi_1\", \"pi_2\"]]\n",
    "y = tourney_1985_df[\"win_1\"]\n",
    "\n",
    "model = LogReg(C=1000000)\n",
    "model.fit(x,y)\n",
    "print model.score(x, y)\n",
    "\n",
    "fig = plt.figure()\n",
    "ax = fig.add_subplot(111)\n",
    "\n",
    "ax.set_xlim(0, .015)\n",
    "ax.set_ylim(0, .015)\n",
    "\n",
    "plot_decision_boundary(x.values, y.values, model, \"x\", ax, bounds=(0, .015), poly_flag=False)"
   ]
  },
  {
   "cell_type": "code",
   "execution_count": null,
   "metadata": {
    "collapsed": true
   },
   "outputs": [],
   "source": []
  }
 ],
 "metadata": {
  "kernelspec": {
   "display_name": "Python [Root]",
   "language": "python",
   "name": "Python [Root]"
  },
  "language_info": {
   "codemirror_mode": {
    "name": "ipython",
    "version": 2
   },
   "file_extension": ".py",
   "mimetype": "text/x-python",
   "name": "python",
   "nbconvert_exporter": "python",
   "pygments_lexer": "ipython2",
   "version": "2.7.12"
  }
 },
 "nbformat": 4,
 "nbformat_minor": 0
}
