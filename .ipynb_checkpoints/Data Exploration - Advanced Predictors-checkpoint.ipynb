{
 "cells": [
  {
   "cell_type": "code",
   "execution_count": 1,
   "metadata": {
    "collapsed": false
   },
   "outputs": [],
   "source": [
    "# import libraries\n",
    "import numpy as np\n",
    "import pandas as pd\n",
    "import matplotlib\n",
    "import matplotlib.pyplot as plt\n",
    "%matplotlib inline\n",
    "\n",
    "from sklearn.linear_model import LogisticRegression as LogReg\n",
    "from sklearn.preprocessing import StandardScaler\n",
    "\n",
    "import march_madness_classes as mmc"
   ]
  },
  {
   "cell_type": "markdown",
   "metadata": {},
   "source": [
    "## 1) Confirm Baseline Model is Working"
   ]
  },
  {
   "cell_type": "code",
   "execution_count": 2,
   "metadata": {
    "collapsed": true
   },
   "outputs": [],
   "source": [
    "# read in the dataset\n",
    "tournament_data = pd.read_csv(\"datasets/kaggle_data/TourneyCompactResults.csv\")\n",
    "teams = pd.read_csv(\"datasets/kaggle_data/Teams.csv\")\n",
    "seeds = pd.read_csv(\"datasets/kaggle_data/TourneySeeds.csv\")\n",
    "slots = pd.read_csv(\"datasets/kaggle_data/TourneySlots.csv\")"
   ]
  },
  {
   "cell_type": "code",
   "execution_count": 3,
   "metadata": {
    "collapsed": true
   },
   "outputs": [],
   "source": [
    "games_arr = mmc.filter_into_seasons(tournament_data)\n",
    "seeds_arr = mmc.filter_into_seasons(seeds)\n",
    "slots_arr = mmc.filter_into_seasons(slots)"
   ]
  },
  {
   "cell_type": "code",
   "execution_count": null,
   "metadata": {
    "collapsed": true
   },
   "outputs": [],
   "source": [
    "tourney_summary = pd.read_csv(\"datasets/our_data/team_summary_data/tourney_wins_matrix\", index_col=0)"
   ]
  },
  {
   "cell_type": "code",
   "execution_count": null,
   "metadata": {
    "collapsed": true
   },
   "outputs": [],
   "source": [
    "wins_in_prev_2_year = np.zeros(tourney_summary.shape)\n",
    "wins_in_prev_2_year[0:2, :] = np.nan"
   ]
  },
  {
   "cell_type": "code",
   "execution_count": null,
   "metadata": {
    "collapsed": false
   },
   "outputs": [],
   "source": [
    "for i in range(2, tourney_summary.shape[0]):\n",
    "    wins_in_prev_2_year[i, :] = tourney_summary.values[i - 1, :] + tourney_summary.values[i - 2, :]"
   ]
  },
  {
   "cell_type": "code",
   "execution_count": null,
   "metadata": {
    "collapsed": false
   },
   "outputs": [],
   "source": [
    "past_resul = pd.DataFrame(wins_in_prev_2_year, columns = tourney_summary.columns, index= tourney_summary.index)"
   ]
  },
  {
   "cell_type": "code",
   "execution_count": null,
   "metadata": {
    "collapsed": true
   },
   "outputs": [],
   "source": [
    "past_resul.to_csv(\"datasets/our_data/past_results\")"
   ]
  },
  {
   "cell_type": "code",
   "execution_count": null,
   "metadata": {
    "collapsed": false
   },
   "outputs": [],
   "source": [
    "past_resul.head()"
   ]
  },
  {
   "cell_type": "code",
   "execution_count": null,
   "metadata": {
    "collapsed": false
   },
   "outputs": [],
   "source": [
    "pred, resp = mmc.generate_multiple_years_of_games(range(1987, 2001), seeds_arr, slots_arr, games_arr, [\"min_index_id\", \"max_index_id\", \"markov\", \"dominance\", \"consistency\", \"prev_resul\"], [markov_data, dominance, consistency, wins_in_prev_year_df])"
   ]
  },
  {
   "cell_type": "code",
   "execution_count": null,
   "metadata": {
    "collapsed": true
   },
   "outputs": [],
   "source": [
    "from sklearn.cross_validation import train_test_split"
   ]
  },
  {
   "cell_type": "code",
   "execution_count": null,
   "metadata": {
    "collapsed": false
   },
   "outputs": [],
   "source": [
    "train_index, cross_index = train_test_split(pred.index, test_size = .25)\n",
    "\n",
    "train_x = pred.loc[train_index]\n",
    "train_y = resp.loc[train_index]\n",
    "cross_x = pred.loc[cross_index]\n",
    "cross_y = resp.loc[cross_index]"
   ]
  },
  {
   "cell_type": "code",
   "execution_count": null,
   "metadata": {
    "collapsed": false
   },
   "outputs": [],
   "source": [
    "scaler = StandardScaler().fit(train_x.iloc[:, 2].reshape(-1,1))\n",
    "\n",
    "model = LogReg(C = 1)\n",
    "model.fit(scaler.transform(train_x.iloc[:, 2].reshape(-1,1)), train_y.values.T[0])\n",
    "model.score(scaler.transform(cross_x.iloc[:, 2].reshape(-1,1)), cross_y)"
   ]
  },
  {
   "cell_type": "code",
   "execution_count": null,
   "metadata": {
    "collapsed": false
   },
   "outputs": [],
   "source": [
    "scaler = StandardScaler().fit(train_x.iloc[:, 2:])\n",
    "\n",
    "model = LogReg(C = 1)\n",
    "model.fit(scaler.transform(train_x.iloc[:, 2:]), train_y.values.T[0])\n",
    "model.score(scaler.transform(cross_x.iloc[:, 2:]), cross_y)"
   ]
  },
  {
   "cell_type": "code",
   "execution_count": null,
   "metadata": {
    "collapsed": false
   },
   "outputs": [],
   "source": [
    "model.coef_"
   ]
  },
  {
   "cell_type": "markdown",
   "metadata": {},
   "source": [
    "---"
   ]
  },
  {
   "cell_type": "markdown",
   "metadata": {},
   "source": [
    "## 2) Generate Some New Predictors"
   ]
  },
  {
   "cell_type": "code",
   "execution_count": null,
   "metadata": {
    "collapsed": false
   },
   "outputs": [],
   "source": [
    "regular_seasons = pd.read_csv(\"datasets/kaggle_data/RegularSeasonCompactResults.csv\")"
   ]
  },
  {
   "cell_type": "code",
   "execution_count": null,
   "metadata": {
    "collapsed": false
   },
   "outputs": [],
   "source": [
    "regular_data = mmc.filter_into_seasons(regular_seasons)"
   ]
  },
  {
   "cell_type": "code",
   "execution_count": 4,
   "metadata": {
    "collapsed": true
   },
   "outputs": [],
   "source": [
    "markov_data = pd.read_csv(\"datasets/our_data/stationary\", index_col=0)\n",
    "consistency = pd.read_csv(\"datasets/our_data/consistency\", index_col=0)\n",
    "dominance = pd.read_csv(\"datasets/our_data/dominance\", index_col=0)\n",
    "past_resul = pd.read_csv(\"datasets/our_data/past_results\", index_col=0)"
   ]
  },
  {
   "cell_type": "markdown",
   "metadata": {},
   "source": [
    "---"
   ]
  },
  {
   "cell_type": "markdown",
   "metadata": {},
   "source": [
    "### Convert Seeds to Numeric Matrix"
   ]
  },
  {
   "cell_type": "code",
   "execution_count": null,
   "metadata": {
    "collapsed": false
   },
   "outputs": [],
   "source": [
    "# convert seeds arr to numeric value\n",
    "seed_matrix = np.zeros((2016 - 1985 + 1, teams.shape[0]))\n",
    "\n",
    "i = 0\n",
    "for year in range(1985, 2017):\n",
    "    j = 0\n",
    "    for team in teams[\"Team_Id\"]:\n",
    "        seeds_in_year_i = seeds_arr[i]\n",
    "        team_seed_in_year_i = seeds_in_year_i.loc[seeds_in_year_i[\"Team\"] == team, \"Seed\"]\n",
    "        \n",
    "        seed = np.nan\n",
    "        if len(team_seed_in_year_i.values) != 0:\n",
    "            seed = team_seed_in_year_i.values[0][1:3]\n",
    "    \n",
    "        seed_matrix[i, j] = seed\n",
    "        \n",
    "        j = j + 1\n",
    "        \n",
    "    i = i + 1"
   ]
  },
  {
   "cell_type": "code",
   "execution_count": null,
   "metadata": {
    "collapsed": false
   },
   "outputs": [],
   "source": [
    "seed_matrix_df = pd.DataFrame(data=seed_matrix, columns=past_resul.columns, index=past_resul.index)\n",
    "\n",
    "seed_matrix_df.to_csv(\"datasets/our_data/team_summary_data/seeds_matrix\")"
   ]
  },
  {
   "cell_type": "code",
   "execution_count": 5,
   "metadata": {
    "collapsed": true
   },
   "outputs": [],
   "source": [
    "seed_matrix_df = pd.read_csv(\"datasets/our_data/team_summary_data/seeds_matrix\", index_col=0)"
   ]
  },
  {
   "cell_type": "markdown",
   "metadata": {},
   "source": [
    "---"
   ]
  },
  {
   "cell_type": "markdown",
   "metadata": {},
   "source": [
    "### Weighted Wins"
   ]
  },
  {
   "cell_type": "code",
   "execution_count": null,
   "metadata": {
    "collapsed": false,
    "scrolled": true
   },
   "outputs": [],
   "source": [
    "# weighted wins = \\sum (wins / seed)\n",
    "weighted_wins_np = np.zeros(seed_matrix_df.shape)\n",
    "\n",
    "i = 0\n",
    "# iterate years\n",
    "for year in range(1985, 2017):\n",
    "    j = 0\n",
    "    # iterate teams\n",
    "    for team in teams[\"Team_Id\"]:\n",
    "        # extract games the team won\n",
    "        wins = regular_data[i].loc[regular_data[i][\"Wteam\"] == team]\n",
    "        \n",
    "        # start with 0\n",
    "        weighted_wins = 0\n",
    "        \n",
    "        # iterate wins\n",
    "        for index, game in wins.iterrows():\n",
    "            l_team = game[\"Lteam\"]\n",
    "            l_team_seed = seed_matrix_df.loc[year, str(l_team)]\n",
    "        \n",
    "            # if the loser is in the tourney, then add to weighted wins\n",
    "            if ~np.isnan(l_team_seed):\n",
    "                # ww = 1 / (lteam seed)\n",
    "                weighted_wins = weighted_wins + 1./ l_team_seed\n",
    "                \n",
    "        # put into our array\n",
    "        weighted_wins_np[i, j] = weighted_wins\n",
    "        \n",
    "        j = j + 1\n",
    "        \n",
    "    i = i + 1"
   ]
  },
  {
   "cell_type": "code",
   "execution_count": null,
   "metadata": {
    "collapsed": false
   },
   "outputs": [],
   "source": [
    "weighted_wins = pd.DataFrame(data=weighted_wins_np, columns=seed_matrix_df.columns, index=seed_matrix_df.index)\n",
    "\n",
    "weighted_wins.to_csv(\"datasets/our_data/weighted_wins\")"
   ]
  },
  {
   "cell_type": "code",
   "execution_count": 6,
   "metadata": {
    "collapsed": false
   },
   "outputs": [],
   "source": [
    "weighted_wins = pd.read_csv(\"datasets/our_data/weighted_wins\", index_col=0)"
   ]
  },
  {
   "cell_type": "markdown",
   "metadata": {},
   "source": [
    "---"
   ]
  },
  {
   "cell_type": "markdown",
   "metadata": {},
   "source": [
    "### Momentum (Markov * Wins in Last 30 Days)"
   ]
  },
  {
   "cell_type": "code",
   "execution_count": null,
   "metadata": {
    "collapsed": false
   },
   "outputs": [],
   "source": [
    "momentum_np = np.zeros(seed_matrix_df.shape)\n",
    "\n",
    "i = 0\n",
    "# iterate years\n",
    "for year in range(1985, 2017):\n",
    "    j = 0\n",
    "    # iterate teams\n",
    "    for team in teams[\"Team_Id\"]:\n",
    "        season = regular_data[i]\n",
    "        \n",
    "        # get the last 30 days of the season\n",
    "        max_day = season[\"Daynum\"].max()\n",
    "        last_month = season[season[\"Daynum\"] >= max_day - 30]\n",
    "        \n",
    "        # wins\n",
    "        wins = last_month[last_month[\"Wteam\"] == team]\n",
    "        weighted_wins = 0.\n",
    "        \n",
    "        for index, win in wins.iterrows():\n",
    "            l_team = win[\"Lteam\"]\n",
    "            l_team_pi = markov_data.loc[year, str(l_team)]\n",
    "            \n",
    "            weighted_wins = weighted_wins + l_team_pi\n",
    "        \n",
    "        momentum_np[i, j] = weighted_wins\n",
    "        j = j + 1\n",
    "    i = i + 1"
   ]
  },
  {
   "cell_type": "code",
   "execution_count": null,
   "metadata": {
    "collapsed": false
   },
   "outputs": [],
   "source": [
    "momentum = pd.DataFrame(data=momentum_np, columns=seed_matrix_df.columns, index=seed_matrix_df.index)\n",
    "\n",
    "momentum.to_csv(\"datasets/our_data/momentum\")"
   ]
  },
  {
   "cell_type": "code",
   "execution_count": 7,
   "metadata": {
    "collapsed": true
   },
   "outputs": [],
   "source": [
    "momentum = pd.read_csv(\"datasets/our_data/momentum\", index_col=0)"
   ]
  },
  {
   "cell_type": "markdown",
   "metadata": {},
   "source": [
    "---"
   ]
  },
  {
   "cell_type": "markdown",
   "metadata": {},
   "source": [
    "### Close Win Percentage (OT Wins/ Wins By <= 1 Basket)"
   ]
  },
  {
   "cell_type": "code",
   "execution_count": null,
   "metadata": {
    "collapsed": false,
    "scrolled": true
   },
   "outputs": [],
   "source": [
    "close_wins_np = np.zeros(seed_matrix_df.shape)\n",
    "close_games_np = np.zeros(seed_matrix_df.shape)\n",
    "close_game_win_percetage_np = np.zeros(seed_matrix_df.shape)\n",
    "\n",
    "i = 0\n",
    "# iterate years\n",
    "for year in range(1985, 2017):\n",
    "    j = 0\n",
    "    # iterate teams\n",
    "    for team in teams[\"Team_Id\"]:\n",
    "        season = regular_data[i]\n",
    "        \n",
    "        # games \n",
    "        wins = season.loc[season[\"Wteam\"] == team]\n",
    "        losses = season.loc[season[\"Lteam\"] == team]\n",
    "        \n",
    "        close_wins = 0.\n",
    "        close_losses = 0.\n",
    "        \n",
    "        # iter wins, count close wins\n",
    "        for index, win in wins.iterrows():\n",
    "            if win[\"Wscore\"] - win[\"Lscore\"] <= 3:\n",
    "                close_wins = close_wins + 1.\n",
    "            elif win[\"Numot\"] > 0:\n",
    "                close_wins = close_wins + 1.\n",
    "        \n",
    "        for index, loss in losses.iterrows():\n",
    "            if loss[\"Wscore\"] - loss[\"Lscore\"] <= 3:\n",
    "                close_losses = close_losses + 1.\n",
    "            elif loss[\"Numot\"] > 0:\n",
    "                close_losses = close_losses + 1.\n",
    "        \n",
    "        close_wins_np[i, j] = close_wins\n",
    "        close_games_np[i, j] = close_wins + close_losses\n",
    "        \n",
    "        if close_wins > 0:\n",
    "            close_game_win_percetage_np[i,j] = close_wins / (close_wins +  close_losses)\n",
    "             \n",
    "        j = j + 1\n",
    "    print year\n",
    "    i = i + 1"
   ]
  },
  {
   "cell_type": "code",
   "execution_count": null,
   "metadata": {
    "collapsed": true
   },
   "outputs": [],
   "source": [
    "# save to database\n",
    "close_games = pd.DataFrame(data=close_games_np, columns=seed_matrix_df.columns, index=seed_matrix_df.index)\n",
    "close_games.to_csv(\"datasets/our_data/close_games\")\n",
    "\n",
    "close_wins = pd.DataFrame(data=close_wins_np, columns=seed_matrix_df.columns, index=seed_matrix_df.index)\n",
    "close_wins.to_csv(\"datasets/our_data/close_wins\")\n",
    "\n",
    "close_wins_perc = pd.DataFrame(data=close_game_win_percetage_np, columns=seed_matrix_df.columns, index=seed_matrix_df.index)\n",
    "close_wins_perc.to_csv(\"datasets/our_data/close_wins_perc\")"
   ]
  },
  {
   "cell_type": "code",
   "execution_count": 8,
   "metadata": {
    "collapsed": false
   },
   "outputs": [],
   "source": [
    "close_games= pd.read_csv(\"datasets/our_data/close_games\", index_col=0)\n",
    "close_wins = pd.read_csv(\"datasets/our_data/close_wins\",index_col=0)\n",
    "close_wins_perc = pd.read_csv(\"datasets/our_data/close_wins_perc\", index_col=0)"
   ]
  },
  {
   "cell_type": "markdown",
   "metadata": {},
   "source": [
    "---"
   ]
  },
  {
   "cell_type": "markdown",
   "metadata": {},
   "source": [
    "### Extract Predictors from Original Data Exploration"
   ]
  },
  {
   "cell_type": "code",
   "execution_count": 9,
   "metadata": {
    "collapsed": true
   },
   "outputs": [],
   "source": [
    "rpi = pd.read_csv(\"datasets/our_data/rpi\", index_col=0)\n",
    "bad_losses = pd.read_csv(\"datasets/our_data/bad_losses\", index_col=0)\n",
    "tough_wins = pd.read_csv(\"datasets/our_data/tough_wins\", index_col=0)"
   ]
  },
  {
   "cell_type": "markdown",
   "metadata": {},
   "source": [
    "### Model Head to Head Wins"
   ]
  },
  {
   "cell_type": "code",
   "execution_count": 10,
   "metadata": {
    "collapsed": true
   },
   "outputs": [],
   "source": [
    "from sklearn.cross_validation import train_test_split"
   ]
  },
  {
   "cell_type": "code",
   "execution_count": 54,
   "metadata": {
    "collapsed": false,
    "scrolled": false
   },
   "outputs": [],
   "source": [
    "pred_cat, resp_cat = mmc.generate_multiple_years_of_games(range(1987, 2001), \n",
    "                                                  seeds_arr, \n",
    "                                                  slots_arr, \n",
    "                                                  games_arr, \n",
    "                                                  [\"min_index_id\", \"max_index_id\", \"markov\", \"dominance\", \"rpi\", \"bad_losses\", \"tough_wins\", \"close_wins\", \"close_wins_perc\", \"weighted_wins\", \"past_resul\", \"momentum\"], \n",
    "                                                  [markov_data, dominance, rpi, bad_losses, tough_wins, close_wins, close_wins_perc, weighted_wins, past_resul, momentum],\n",
    "                                                  scoring_dif = False)"
   ]
  },
  {
   "cell_type": "code",
   "execution_count": 19,
   "metadata": {
    "collapsed": false
   },
   "outputs": [
    {
     "name": "stdout",
     "output_type": "stream",
     "text": [
      "0.734461538462\n",
      "[[ 0.79104486  0.51043614 -0.32852101  0.06662859  0.08042103  0.01031312]]\n"
     ]
    }
   ],
   "source": [
    "scores = 0\n",
    "for i in range(500):\n",
    "    train_index, cross_index = train_test_split(pred.index, test_size = .25)\n",
    "\n",
    "    train_x = pred.loc[train_index]\n",
    "    train_y = resp.loc[train_index]\n",
    "    cross_x = pred.loc[cross_index]\n",
    "    cross_y = resp.loc[cross_index]\n",
    "\n",
    "    scaler = StandardScaler().fit(train_x.iloc[:, [2,4,5,6,7,10]])\n",
    "\n",
    "    model = LogReg(C = 10)\n",
    "    model.fit(scaler.transform(train_x.iloc[:, [2,4,5,6,7,10]]), train_y.values.T[0])\n",
    "    scores = scores + model.score(scaler.transform(cross_x.iloc[:, [2,4,5,6,7,10]]), cross_y)\n",
    "    \n",
    "print scores/500.\n",
    "print model.coef_"
   ]
  },
  {
   "cell_type": "code",
   "execution_count": 51,
   "metadata": {
    "collapsed": false
   },
   "outputs": [
    {
     "data": {
      "text/plain": [
       "<module 'march_madness_classes' from 'march_madness_classes.py'>"
      ]
     },
     "execution_count": 51,
     "metadata": {},
     "output_type": "execute_result"
    }
   ],
   "source": [
    "reload(mmc)"
   ]
  },
  {
   "cell_type": "markdown",
   "metadata": {},
   "source": [
    "--- "
   ]
  },
  {
   "cell_type": "markdown",
   "metadata": {},
   "source": [
    "### Model Score Differential"
   ]
  },
  {
   "cell_type": "code",
   "execution_count": 66,
   "metadata": {
    "collapsed": false
   },
   "outputs": [],
   "source": [
    "from sklearn.linear_model import LinearRegression as ols\n",
    "from sklearn.linear_model import Lasso as lasso\n",
    "from sklearn.linear_model import Ridge as ridge"
   ]
  },
  {
   "cell_type": "code",
   "execution_count": 52,
   "metadata": {
    "collapsed": false
   },
   "outputs": [],
   "source": [
    "pred, resp = mmc.generate_multiple_years_of_games(range(1987, 2001), \n",
    "                                                  seeds_arr, \n",
    "                                                  slots_arr, \n",
    "                                                  games_arr, \n",
    "                                                  [\"min_index_id\", \"max_index_id\", \"markov\", \"dominance\", \"rpi\", \"bad_losses\", \"tough_wins\", \"close_wins\", \"close_wins_perc\", \"weighted_wins\", \"past_resul\", \"momentum\"], \n",
    "                                                  [markov_data, dominance, rpi, bad_losses, tough_wins, close_wins, close_wins_perc, weighted_wins, past_resul, momentum],\n",
    "                                                  scoring_dif = True)"
   ]
  },
  {
   "cell_type": "code",
   "execution_count": 90,
   "metadata": {
    "collapsed": false
   },
   "outputs": [
    {
     "name": "stdout",
     "output_type": "stream",
     "text": [
      "0.452780184965\n",
      "[ 4.75784238  0.38380117  6.7311316   0.05897483  0.7046769   0.75246641\n",
      " -1.49653574 -1.0102595  -0.1725533  -0.82996535]\n"
     ]
    }
   ],
   "source": [
    "scores = 0\n",
    "for i in range(500):\n",
    "    train_index, cross_index = train_test_split(pred.index, test_size = .25)\n",
    "\n",
    "    train_x = pred.loc[train_index]\n",
    "    train_y = resp.loc[train_index]\n",
    "    cross_x = pred.loc[cross_index]\n",
    "    cross_y = resp.loc[cross_index]\n",
    "\n",
    "    scaler = StandardScaler().fit(train_x.iloc[:, 2:])\n",
    "\n",
    "    model = ols()\n",
    "    model.fit(scaler.transform(train_x.iloc[:, 2:]), train_y.values.T[0])\n",
    "    scores = scores + model.score(scaler.transform(cross_x.iloc[:, 2:]), cross_y)\n",
    "    \n",
    "print scores/500.\n",
    "print model.coef_"
   ]
  },
  {
   "cell_type": "code",
   "execution_count": 64,
   "metadata": {
    "collapsed": false
   },
   "outputs": [
    {
     "name": "stdout",
     "output_type": "stream",
     "text": [
      "0.455783430671\n",
      "[ 5.47783697  0.          3.84944507 -0.78811087  0.         -0.         -0.0559341\n",
      "  0.          0.          0.        ]\n"
     ]
    }
   ],
   "source": [
    "scores = 0\n",
    "for i in range(500):\n",
    "    train_index, cross_index = train_test_split(pred.index, test_size = .25)\n",
    "\n",
    "    train_x = pred.loc[train_index]\n",
    "    train_y = resp.loc[train_index]\n",
    "    cross_x = pred.loc[cross_index]\n",
    "    cross_y = resp.loc[cross_index]\n",
    "\n",
    "    scaler = StandardScaler().fit(train_x.iloc[:, 2:])\n",
    "\n",
    "    model = lasso()\n",
    "    model.fit(scaler.transform(train_x.iloc[:, 2:]), train_y.values.T[0])\n",
    "    scores = scores + model.score(scaler.transform(cross_x.iloc[:, 2:]), cross_y)\n",
    "    \n",
    "print scores/500.\n",
    "print model.coef_"
   ]
  },
  {
   "cell_type": "code",
   "execution_count": 67,
   "metadata": {
    "collapsed": false
   },
   "outputs": [
    {
     "name": "stdout",
     "output_type": "stream",
     "text": [
      "0.456007369246\n",
      "[ 6.38027814 -1.18758073  6.03088582 -0.67605498  0.13853031  0.36738729\n",
      " -1.22640209 -1.45729778 -0.22821256 -0.21286539]\n"
     ]
    }
   ],
   "source": [
    "scores = 0\n",
    "for i in range(500):\n",
    "    train_index, cross_index = train_test_split(pred.index, test_size = .25)\n",
    "\n",
    "    train_x = pred.loc[train_index]\n",
    "    train_y = resp.loc[train_index]\n",
    "    cross_x = pred.loc[cross_index]\n",
    "    cross_y = resp.loc[cross_index]\n",
    "\n",
    "    scaler = StandardScaler().fit(train_x.iloc[:, 2:])\n",
    "\n",
    "    model = ridge()\n",
    "    model.fit(scaler.transform(train_x.iloc[:, 2:]), train_y.values.T[0])\n",
    "    scores = scores + model.score(scaler.transform(cross_x.iloc[:, 2:]), cross_y)\n",
    "    \n",
    "print scores/500.\n",
    "print model.coef_"
   ]
  }
 ],
 "metadata": {
  "kernelspec": {
   "display_name": "Python [Root]",
   "language": "python",
   "name": "Python [Root]"
  },
  "language_info": {
   "codemirror_mode": {
    "name": "ipython",
    "version": 2
   },
   "file_extension": ".py",
   "mimetype": "text/x-python",
   "name": "python",
   "nbconvert_exporter": "python",
   "pygments_lexer": "ipython2",
   "version": "2.7.12"
  }
 },
 "nbformat": 4,
 "nbformat_minor": 0
}
